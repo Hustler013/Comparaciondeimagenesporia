{
  "nbformat": 4,
  "nbformat_minor": 0,
  "metadata": {
    "colab": {
      "provenance": []
    },
    "kernelspec": {
      "name": "python3",
      "display_name": "Python 3"
    },
    "language_info": {
      "name": "python"
    }
  },
  "cells": [
    {
      "cell_type": "code",
      "execution_count": null,
      "metadata": {
        "id": "-pfJPWC3Z1j4"
      },
      "outputs": [],
      "source": [
        "import numpy as np\n",
        "import matplotlib.pyplot as plt\n",
        "from skimage import transform\n",
        "from skimage.feature import match_descriptors, plot_matches, SIFT\n",
        "\n",
        "import cv2\n",
        "import glob\n",
        "\n",
        "import time\n",
        "\n",
        "# Código que quieres medir\n",
        "start_time = time.time()\n",
        "\n",
        "# Ruta donde se encuentran las imágenes (cambia por tu ruta)\n",
        "carpeta_imagenes_español = 'LEONARDO/ESP/*.jpg'\n",
        "carpeta_imagenes_ingles = 'LEONARDO/ENG/*.jpg'"
      ]
    },
    {
      "cell_type": "code",
      "source": [
        "# Lista para almacenar las imágenes\n",
        "img1 = []\n",
        "img2 = []\n",
        "\n",
        "# Obtener la lista de nombres de archivo de las imágenes en la carpeta\n",
        "archivos_imagenes1 = glob.glob(carpeta_imagenes_español)\n",
        "archivos_imagenes2 = glob.glob(carpeta_imagenes_ingles)\n",
        "\n",
        "# Recorrer la lista de nombres de archivo y leer las imágenes\n",
        "for nombre_archivo in archivos_imagenes1:\n",
        "    # Imprimir el nombre de la imagen\n",
        "    #print(f\"Leyendo: {nombre_archivo}\")\n",
        "    # Leer la imagen y añadirla a la lista\n",
        "    imagen = cv2.imread(nombre_archivo, cv2.IMREAD_GRAYSCALE)\n",
        "    #imagen = cv2.cvtColor(imagen, cv2.COLOR_BGR2GRAY)\n",
        "    if imagen is not None:\n",
        "        img1.append(imagen)\n",
        "\n",
        "for nombre_archivo in archivos_imagenes2:\n",
        "    # Imprimir el nombre de la imagen\n",
        "    #print(f\"Leyendo: {nombre_archivo}\")\n",
        "    # Leer la imagen y añadirla a la lista\n",
        "    imagen = cv2.imread(nombre_archivo, cv2.IMREAD_GRAYSCALE)\n",
        "    #imagen = cv2.cvtColor(imagen, cv2.COLOR_BGR2GRAY)\n",
        "    if imagen is not None:\n",
        "        img2.append(imagen)"
      ],
      "metadata": {
        "id": "lzQ-A8UBZ8eg"
      },
      "execution_count": null,
      "outputs": []
    },
    {
      "cell_type": "code",
      "source": [
        "# Definición de extractor SIFT\n",
        "descriptor_extractor = SIFT()\n",
        "\n",
        "# Variables para keypoints y descriptores\n",
        "keypoints1 = []\n",
        "keypoints2 = []\n",
        "descriptors1 = []\n",
        "descriptors2 = []\n",
        "\n",
        "# Procesar las imágenes para obtener keypoints y descriptores de las imágenes en español\n",
        "for img in img1:\n",
        "    descriptor_extractor.detect_and_extract(img)\n",
        "    keypoints1.append(descriptor_extractor.keypoints)\n",
        "    descriptors1.append(descriptor_extractor.descriptors)\n",
        "\n",
        "# Procesar las imágenes para obtener    keypoints y descriptores de las imágenes en inglés\n",
        "for img in img2:\n",
        "    descriptor_extractor.detect_and_extract(img)\n",
        "    keypoints2.append(descriptor_extractor.keypoints)\n",
        "    descriptors2.append(descriptor_extractor.descriptors)"
      ],
      "metadata": {
        "id": "N50Gs0n_aBxH"
      },
      "execution_count": null,
      "outputs": []
    },
    {
      "cell_type": "code",
      "source": [
        "\n",
        "# Comparación de descriptores de imágenes en español e inglés\n",
        "promedio_match = []\n",
        "\n",
        "for i in range(min(len(descriptors1), len(descriptors2))):\n",
        "    matches = match_descriptors(descriptors1[i], descriptors2[i], max_ratio=0.8, cross_check=True)\n",
        "    promedio_match.append(len(matches))\n",
        "    #print(matches)\n",
        "    #print(len(matches))\n",
        "    distancia_descriptores = []\n",
        "    for match in matches:\n",
        "        idx_espanol, idx_ingles = match  # Índices de los descriptores en español e inglés\n",
        "        a = np.max(descriptors1[i][idx_espanol])\n",
        "        b = np.max(descriptors2[i][idx_ingles])\n",
        "        distancia = np.linalg.norm(descriptors1[i][idx_espanol]/a - descriptors2[i][idx_ingles]/b)\n",
        "        distancia_descriptores.append(distancia)\n",
        "        #print(f\"Norma Euclidiana para índice {i+1}: {distancia}\")\n",
        "        #print(f\"INDICE ESPAÑOL {idx_espanol} -- INDICE INGLES{idx_ingles}\")\n",
        "        #print(np.linalg.norm(descriptors1[i][idx_espanol] - descriptors2[i][idx_ingles]),\"a=\",a,\"b=\",b)\n",
        "    distancia_media = np.mean(distancia_descriptores)\n",
        "    print(f\"Distancia media de descriptores entre imágenes {i+1}: {distancia_media}\")\n",
        "\n",
        "print(len(promedio_match))\n",
        "print(np.mean(promedio_match))"
      ],
      "metadata": {
        "id": "QutK2-y6aD_t"
      },
      "execution_count": null,
      "outputs": []
    },
    {
      "cell_type": "code",
      "source": [
        "# Comparar los descriptores de las imágenes en español con las imágenes en inglés\n",
        "for i in range(len(img_espanol)):\n",
        "    matches = match_descriptors(descriptores_espanol[i], descriptores_ingles[i], cross_check=True)\n",
        "\n",
        "    # Visualizar los emparejamientos solo en el primer subplot (ax[0])\n",
        "    fig, ax = plt.subplots(figsize=(8, 6))\n",
        "    plt.gray()\n",
        "\n",
        "    keypoints_np_espanol = np.array([kp.pt for kp in keypoints_espanol[i]])\n",
        "    keypoints_np_ingles = np.array([kp.pt for kp in keypoints_ingles[i]])\n",
        "\n",
        "    plot_matches(ax, img_espanol[i], img_ingles[i], keypoints_np_espanol, keypoints_np_ingles, matches)\n",
        "    ax.axis('off')\n",
        "\n",
        "    plt.tight_layout()\n",
        "    plt.show()"
      ],
      "metadata": {
        "id": "_vekSYFiaGUG"
      },
      "execution_count": null,
      "outputs": []
    }
  ]
}