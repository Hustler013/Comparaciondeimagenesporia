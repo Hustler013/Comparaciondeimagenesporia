{
  "nbformat": 4,
  "nbformat_minor": 0,
  "metadata": {
    "colab": {
      "provenance": []
    },
    "kernelspec": {
      "name": "python3",
      "display_name": "Python 3"
    },
    "language_info": {
      "name": "python"
    }
  },
  "cells": [
    {
      "cell_type": "code",
      "execution_count": null,
      "metadata": {
        "id": "-Pt93OyMugY3"
      },
      "outputs": [],
      "source": [
        "#ORB\n",
        "import cv2\n",
        "import numpy as np\n",
        "import matplotlib.pyplot as plt\n",
        "from skimage.feature import match_descriptors, plot_matches\n",
        "import glob\n",
        "\n",
        "import time\n",
        "\n",
        "# Código que quieres medir\n",
        "start_time = time.time()\n",
        "\n",
        "# Rutas de las carpetas de imágenes en español e inglés\n",
        "carpeta_imagenes_espanol = 'LEONARDO/ESP2/*.jpg'\n",
        "carpeta_imagenes_ingles = 'LEONARDO/ENG2/*.jpg'"
      ]
    },
    {
      "cell_type": "code",
      "source": [
        "# Lista para almacenar las imágenes\n",
        "img_espanol = []\n",
        "img_ingles = []\n",
        "\n",
        "# Obtener la lista de nombres de archivo de las imágenes en las carpetas\n",
        "archivos_imagenes_espanol = glob.glob(carpeta_imagenes_espanol)\n",
        "archivos_imagenes_ingles = glob.glob(carpeta_imagenes_ingles)\n",
        "\n",
        "# Leer las imágenes de la carpeta en español\n",
        "for nombre_archivo in archivos_imagenes_espanol:\n",
        "    imagen = cv2.imread(nombre_archivo, cv2.IMREAD_GRAYSCALE)\n",
        "    if imagen is not None:\n",
        "        img_espanol.append(imagen)\n",
        "\n",
        "# Leer las imágenes de la carpeta en inglés\n",
        "for nombre_archivo in archivos_imagenes_ingles:\n",
        "    imagen = cv2.imread(nombre_archivo, cv2.IMREAD_GRAYSCALE)\n",
        "    if imagen is not None:\n",
        "        img_ingles.append(imagen)"
      ],
      "metadata": {
        "id": "0XA0SCbfvED8"
      },
      "execution_count": null,
      "outputs": []
    },
    {
      "cell_type": "code",
      "source": [
        "# Crear el detector ORB\n",
        "orb = cv2.ORB_create()\n",
        "\n",
        "# Lista para almacenar keypoints y descriptores de las imágenes\n",
        "keypoints_espanol = []\n",
        "descriptores_espanol = []\n",
        "keypoints_ingles = []\n",
        "descriptores_ingles = []\n",
        "\n",
        "# Procesar las imágenes en español para obtener keypoints y descriptores\n",
        "for img in img_espanol:\n",
        "    kp, des = orb.detectAndCompute(img, None)\n",
        "    keypoints_espanol.append(kp)\n",
        "    descriptores_espanol.append(des)\n",
        "\n",
        "# Procesar las imágenes en inglés para obtener keypoints y descriptores\n",
        "for img in img_ingles:\n",
        "    kp, des = orb.detectAndCompute(img, None)\n",
        "    keypoints_ingles.append(kp)\n",
        "    descriptores_ingles.append(des)"
      ],
      "metadata": {
        "id": "vkT6nBhnvF-b"
      },
      "execution_count": null,
      "outputs": []
    },
    {
      "cell_type": "code",
      "source": [
        "# Comparación de descriptores de imágenes en español e inglés\n",
        "promedio_match = []\n",
        "\n",
        "for i in range(min(len(descriptores_espanol), len(descriptores_ingles))):\n",
        "    matches = match_descriptors(descriptores_espanol[i], descriptores_ingles[i], max_ratio=0.8, cross_check=True)\n",
        "    promedio_match.append(len(matches))\n",
        "    #print(matches)\n",
        "    #print(len(matches))\n",
        "    distancia_descriptores = []\n",
        "    for match in matches:\n",
        "        idx_espanol, idx_ingles = match  # Índices de los descriptores en español e inglés\n",
        "        a = np.max(descriptores_espanol[i][idx_espanol])\n",
        "        b = np.max(descriptores_ingles[i][idx_ingles])\n",
        "        distancia = np.linalg.norm(descriptores_espanol[i][idx_espanol]/a - descriptores_ingles[i][idx_ingles]/b)\n",
        "        distancia_descriptores.append(distancia)\n",
        "        #print(f\"Norma Euclidiana para índice {i+1}: {distancia}\")\n",
        "        #print(f\"INDICE ESPAÑOL {idx_espanol} -- INDICE INGLES{idx_ingles}\")\n",
        "        #print(np.linalg.norm(descriptores_espanol[i][idx_espanol] - descriptores_ingles[i][idx_ingles]),\"a=\",a,\"b=\",b)\n",
        "    distancia_media = np.mean(distancia_descriptores)\n",
        "    print(f\"Distancia media de descriptores entre imágenes {i+1}: {distancia_media}\")\n",
        "\n",
        "#print(len(promedio_match))\n",
        "#print(\"Mean: \",np.mean(promedio_match))\n",
        "#print(\"Min: \",np.min(promedio_match))\n",
        "#print(\"Max: \",np.max(promedio_match))\n",
        "print(\"-----------------------------\")\n",
        "print(promedio_match)"
      ],
      "metadata": {
        "colab": {
          "base_uri": "https://localhost:8080/"
        },
        "id": "UFDFi8InM9oG",
        "outputId": "cfa8a4d5-89c8-425d-98d2-661187371c47"
      },
      "execution_count": null,
      "outputs": [
        {
          "output_type": "stream",
          "name": "stdout",
          "text": [
            "Distancia media de descriptores entre imágenes 1: 0.9944628686867638\n",
            "Distancia media de descriptores entre imágenes 2: 1.198356920913038\n",
            "Distancia media de descriptores entre imágenes 3: 1.065829417546188\n",
            "Distancia media de descriptores entre imágenes 4: 1.05936926535527\n",
            "Distancia media de descriptores entre imágenes 5: 1.0825277892271845\n",
            "Distancia media de descriptores entre imágenes 6: 1.0534496328114478\n",
            "Distancia media de descriptores entre imágenes 7: 1.0494310262310358\n",
            "Distancia media de descriptores entre imágenes 8: 0.9648129585104592\n",
            "Distancia media de descriptores entre imágenes 9: 0.9520709361556077\n",
            "Distancia media de descriptores entre imágenes 10: 0.9791738878217547\n",
            "Distancia media de descriptores entre imágenes 11: 1.076071528563542\n",
            "Distancia media de descriptores entre imágenes 12: 1.0326720331960493\n",
            "Distancia media de descriptores entre imágenes 13: 1.0819387849899618\n",
            "Distancia media de descriptores entre imágenes 14: 1.0846377747786404\n",
            "Distancia media de descriptores entre imágenes 15: 1.0314734780643222\n",
            "Distancia media de descriptores entre imágenes 16: 1.088938137924188\n",
            "Distancia media de descriptores entre imágenes 17: 1.0415396540419641\n",
            "Distancia media de descriptores entre imágenes 18: 1.107207734688493\n",
            "Distancia media de descriptores entre imágenes 19: 1.0790324978307262\n",
            "Distancia media de descriptores entre imágenes 20: 1.1004675168804\n",
            "Distancia media de descriptores entre imágenes 21: 1.1629267999539015\n",
            "Distancia media de descriptores entre imágenes 22: 1.039221768940466\n",
            "Distancia media de descriptores entre imágenes 23: 1.1464392931331129\n",
            "Distancia media de descriptores entre imágenes 24: 0.9882315946818279\n",
            "Distancia media de descriptores entre imágenes 25: 1.0317625053157264\n",
            "Distancia media de descriptores entre imágenes 26: 1.1475780346485531\n",
            "Distancia media de descriptores entre imágenes 27: 1.1064114978491677\n",
            "Distancia media de descriptores entre imágenes 28: 1.0647230808993906\n",
            "Distancia media de descriptores entre imágenes 29: 1.1922197816338969\n",
            "Distancia media de descriptores entre imágenes 30: 1.1658873638353144\n",
            "Distancia media de descriptores entre imágenes 31: 0.9989556603187011\n",
            "Distancia media de descriptores entre imágenes 32: 0.995758822784603\n",
            "Distancia media de descriptores entre imágenes 33: 1.1632744813778704\n",
            "Distancia media de descriptores entre imágenes 34: 0.9893120112036868\n",
            "Distancia media de descriptores entre imágenes 35: 1.1297611545384898\n",
            "-----------------------------\n",
            "[13, 8, 9, 5, 15, 11, 10, 13, 8, 14, 10, 16, 13, 6, 6, 13, 9, 8, 16, 12, 10, 9, 9, 17, 11, 8, 11, 9, 10, 13, 8, 6, 10, 10, 9]\n"
          ]
        }
      ]
    },
    {
      "cell_type": "code",
      "source": [
        "# Comparar los descriptores de las imágenes en español con las imágenes en inglés\n",
        "for i in range(len(img_espanol)):\n",
        "    matches = match_descriptors(descriptores_espanol[i], descriptores_ingles[i], cross_check=True)\n",
        "\n",
        "    # Visualizar los emparejamientos solo en el primer subplot (ax[0])\n",
        "    fig, ax = plt.subplots(figsize=(8, 6))\n",
        "    plt.gray()\n",
        "\n",
        "    keypoints_np_espanol = np.array([kp.pt for kp in keypoints_espanol[i]])\n",
        "    keypoints_np_ingles = np.array([kp.pt for kp in keypoints_ingles[i]])\n",
        "\n",
        "    plot_matches(ax, img_espanol[i], img_ingles[i], keypoints_np_espanol, keypoints_np_ingles, matches)\n",
        "    ax.axis('off')\n",
        "\n",
        "    plt.tight_layout()\n",
        "    plt.show()"
      ],
      "metadata": {
        "id": "JdWtT2RHRJKH"
      },
      "execution_count": null,
      "outputs": []
    }
  ]
}